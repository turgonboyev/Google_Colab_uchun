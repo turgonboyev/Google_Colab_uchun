{
  "nbformat": 4,
  "nbformat_minor": 0,
  "metadata": {
    "colab": {
      "name": "Arrays.ipynb",
      "provenance": [],
      "toc_visible": true,
      "authorship_tag": "ABX9TyPc548A/jfR6qSAsn9V4L3t",
      "include_colab_link": true
    },
    "kernelspec": {
      "name": "python3",
      "display_name": "Python 3"
    },
    "language_info": {
      "name": "python"
    }
  },
  "cells": [
    {
      "cell_type": "markdown",
      "metadata": {
        "id": "view-in-github",
        "colab_type": "text"
      },
      "source": [
        "<a href=\"https://colab.research.google.com/github/turgonboyev/Google_Colab_uchun/blob/main/Arrays.ipynb\" target=\"_parent\"><img src=\"https://colab.research.google.com/assets/colab-badge.svg\" alt=\"Open In Colab\"/></a>"
      ]
    },
    {
      "cell_type": "code",
      "source": [
        "import numpy as np"
      ],
      "metadata": {
        "id": "fNe1VbFIEkpO"
      },
      "execution_count": 3,
      "outputs": []
    },
    {
      "cell_type": "code",
      "execution_count": 4,
      "metadata": {
        "id": "6chk-WkREVlX"
      },
      "outputs": [],
      "source": [
        "data1 = [5, 8, 15, 28]\n",
        "arr1 = np.array(data1)"
      ]
    },
    {
      "cell_type": "markdown",
      "source": [
        "#Array o'lmanini ko'rish\n",
        "ndim orqali ko'riladi"
      ],
      "metadata": {
        "id": "nI5Ed5yCEwCT"
      }
    },
    {
      "cell_type": "code",
      "source": [
        "arr1.ndim\n"
      ],
      "metadata": {
        "colab": {
          "base_uri": "https://localhost:8080/"
        },
        "id": "YspOQ-4LEphR",
        "outputId": "2dc82a74-226c-409b-87d5-af4033ee5241"
      },
      "execution_count": 5,
      "outputs": [
        {
          "output_type": "execute_result",
          "data": {
            "text/plain": [
              "1"
            ]
          },
          "metadata": {},
          "execution_count": 5
        }
      ]
    },
    {
      "cell_type": "code",
      "source": [
        "data3 = [[[25, 36, 44],[84, 7, 9],[9, 5, 3]]]"
      ],
      "metadata": {
        "id": "eK3OLOD4FBCm"
      },
      "execution_count": 9,
      "outputs": []
    },
    {
      "cell_type": "code",
      "source": [
        "arr3 = np.array(data3)"
      ],
      "metadata": {
        "id": "IdzBKLaqFXRi"
      },
      "execution_count": 10,
      "outputs": []
    },
    {
      "cell_type": "code",
      "source": [
        "arr3.ndim"
      ],
      "metadata": {
        "id": "ZD8Wi_n7FcLB",
        "outputId": "9a62e8de-95bb-462b-d5e3-8a1b838debee",
        "colab": {
          "base_uri": "https://localhost:8080/"
        }
      },
      "execution_count": 11,
      "outputs": [
        {
          "output_type": "execute_result",
          "data": {
            "text/plain": [
              "3"
            ]
          },
          "metadata": {},
          "execution_count": 11
        }
      ]
    },
    {
      "cell_type": "code",
      "source": [
        ""
      ],
      "metadata": {
        "id": "nO3DDwG7Ftco"
      },
      "execution_count": null,
      "outputs": []
    }
  ]
}