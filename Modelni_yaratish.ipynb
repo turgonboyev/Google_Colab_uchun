{
  "nbformat": 4,
  "nbformat_minor": 0,
  "metadata": {
    "colab": {
      "name": "Modelni yaratish.ipynb",
      "provenance": [],
      "authorship_tag": "ABX9TyPV6rU9ZWRszOc5s82RpWus",
      "include_colab_link": true
    },
    "kernelspec": {
      "name": "python3",
      "display_name": "Python 3"
    },
    "language_info": {
      "name": "python"
    }
  },
  "cells": [
    {
      "cell_type": "markdown",
      "metadata": {
        "id": "view-in-github",
        "colab_type": "text"
      },
      "source": [
        "<a href=\"https://colab.research.google.com/github/turgonboyev/Google_Colab_uchun/blob/main/Modelni_yaratish.ipynb\" target=\"_parent\"><img src=\"https://colab.research.google.com/assets/colab-badge.svg\" alt=\"Open In Colab\"/></a>"
      ]
    },
    {
      "cell_type": "code",
      "execution_count": 15,
      "metadata": {
        "id": "bHxJr0JoY80G"
      },
      "outputs": [],
      "source": [
        "import pandas as pd\n",
        "import numpy as np\n",
        "import sklearn\n",
        "\n",
        "URL = 'https://github.com/ageron/handson-ml2/blob/master/datasets/housing/housing.csv?raw=true'\n",
        "\n",
        "df = pd.read_csv(URL)\n",
        "\n",
        "from sklearn.model_selection import train_test_split\n",
        "\n",
        "train_set, test_set = train_test_split(df, test_size=0.2, random_state=42)\n",
        "\n",
        "housing = train_set.drop('median_house_value', axis=1)\n",
        "housing_label = train_set['median_house_value'].copy()\n",
        "housing_num = housing.drop('ocean_proximity', axis=1)"
      ]
    },
    {
      "cell_type": "code",
      "source": [
        "from sklearn.base import BaseEstimator, TransformerMixin\n",
        "# bizga kerak ustunlar indekslari\n",
        "rooms_ix, bedrooms_ix, population_ix, households_ix = 3, 4, 5, 6\n",
        "\n",
        "class CombinedAttributesAdder(BaseEstimator, TransformerMixin):\n",
        "    def __init__(self, add_bedrooms_per_room = True):\n",
        "        self.add_bedrooms_per_room = add_bedrooms_per_room\n",
        "    def fit(self, X, y=None):\n",
        "        return self # bizni funksiyamiz faqat transformer. estimator emas\n",
        "    def transform(self, X):\n",
        "        rooms_per_household = X[:, rooms_ix] / X[:, households_ix]\n",
        "        population_per_household = X[:, population_ix] / X[:, households_ix]\n",
        "        if self.add_bedrooms_per_room: # add_bedrooms_per_room ustuni ixtiyoriy bo'ladi\n",
        "            bedrooms_per_room = X[:, bedrooms_ix] / X[:, rooms_ix]\n",
        "            return np.c_[X, rooms_per_household, population_per_household, bedrooms_per_room]\n",
        "        else:\n",
        "            return np.c_[X, rooms_per_household, population_per_household]"
      ],
      "metadata": {
        "id": "dPAa12f1acRI"
      },
      "execution_count": 16,
      "outputs": []
    },
    {
      "cell_type": "code",
      "source": [
        "#Pipeline yasaymiz\n",
        "\n",
        "from sklearn.pipeline import Pipeline\n",
        "from sklearn.impute import SimpleImputer\n",
        "from sklearn.preprocessing import OneHotEncoder, StandardScaler\n",
        "\n",
        "num_pipeline = Pipeline([\n",
        "          ('imputer', SimpleImputer(strategy='median')),\n",
        "          ('attribs_adder', CombinedAttributesAdder(add_bedrooms_per_room = True)),\n",
        "          ('std_scaler', StandardScaler())             \n",
        "])\n",
        "\n",
        "num_pipeline.fit_transform(housing_num)"
      ],
      "metadata": {
        "colab": {
          "base_uri": "https://localhost:8080/"
        },
        "id": "KJ3b4umJahN8",
        "outputId": "d749e568-9c97-4396-92b0-9b3cbce41648"
      },
      "execution_count": 21,
      "outputs": [
        {
          "output_type": "execute_result",
          "data": {
            "text/plain": [
              "array([[ 1.27258656, -1.3728112 ,  0.34849025, ..., -0.17491646,\n",
              "         0.05137609, -0.2117846 ],\n",
              "       [ 0.70916212, -0.87669601,  1.61811813, ..., -0.40283542,\n",
              "        -0.11736222,  0.34218528],\n",
              "       [-0.44760309, -0.46014647, -1.95271028, ...,  0.08821601,\n",
              "        -0.03227969, -0.66165785],\n",
              "       ...,\n",
              "       [ 0.59946887, -0.75500738,  0.58654547, ..., -0.60675918,\n",
              "         0.02030568,  0.99951387],\n",
              "       [-1.18553953,  0.90651045, -1.07984112, ...,  0.40217517,\n",
              "         0.00707608, -0.79086209],\n",
              "       [-1.41489815,  0.99543676,  1.85617335, ..., -0.85144571,\n",
              "        -0.08535429,  1.69520292]])"
            ]
          },
          "metadata": {},
          "execution_count": 21
        }
      ]
    },
    {
      "cell_type": "code",
      "source": [
        "from sklearn.compose import ColumnTransformer\n",
        "\n",
        "num_attribs = list(housing_num)\n",
        "cat_attribs = ['ocean_proximity']\n",
        "\n",
        "full_pipeline = ColumnTransformer([\n",
        "    ('num', num_pipeline, num_attribs),\n",
        "    ('cat', OneHotEncoder(), cat_attribs)\n",
        "])\n",
        "\n",
        "housing_prepared = full_pipeline.fit_transform(housing)"
      ],
      "metadata": {
        "id": "Ia1GDE1Ijbm8"
      },
      "execution_count": 20,
      "outputs": []
    },
    {
      "cell_type": "code",
      "source": [
        ""
      ],
      "metadata": {
        "id": "xQO5yEWckXXH"
      },
      "execution_count": 22,
      "outputs": []
    },
    {
      "cell_type": "code",
      "source": [
        "from sklearn.linear_model import LinearRegression\n",
        "\n",
        "LR_model = LinearRegression()\n",
        "\n",
        "LR_model.fit(housing_prepared, housing_label)"
      ],
      "metadata": {
        "colab": {
          "base_uri": "https://localhost:8080/"
        },
        "id": "r2BGST6GnY1P",
        "outputId": "fdcb4817-3e01-4ad9-a329-ebad825f7fd8"
      },
      "execution_count": 23,
      "outputs": [
        {
          "output_type": "execute_result",
          "data": {
            "text/plain": [
              "LinearRegression()"
            ]
          },
          "metadata": {},
          "execution_count": 23
        }
      ]
    },
    {
      "cell_type": "code",
      "source": [
        "test_data = housing.sample(10)\n",
        "test_label = housing_label.loc[test_data.index]\n",
        "\n",
        "test_data_prepared = full_pipeline.transform(test_data)\n",
        "\n",
        "predicted_labels = LR_model.predict(test_data_prepared)\n",
        "\n",
        "pd.DataFrame({'Bashorat': predicted_labels, 'Real narx': test_label})"
      ],
      "metadata": {
        "colab": {
          "base_uri": "https://localhost:8080/",
          "height": 363
        },
        "id": "ycdkbIzusrYp",
        "outputId": "8ceee9f1-2963-4746-f31b-9c0434381590"
      },
      "execution_count": 25,
      "outputs": [
        {
          "output_type": "execute_result",
          "data": {
            "text/plain": [
              "            Bashorat  Real narx\n",
              "5846   214996.602587   200000.0\n",
              "10189  257107.614237   175800.0\n",
              "11740  114546.075549   216500.0\n",
              "9327   320681.186933   500001.0\n",
              "13743  163396.787816   135800.0\n",
              "17374  178354.711601   136900.0\n",
              "9409   336117.333107   400400.0\n",
              "6511   129126.319235   184400.0\n",
              "3862   241419.386498   337500.0\n",
              "249    178946.640278   131900.0"
            ],
            "text/html": [
              "\n",
              "  <div id=\"df-b03edfad-f234-46ff-8b27-f2025fc6f2c9\">\n",
              "    <div class=\"colab-df-container\">\n",
              "      <div>\n",
              "<style scoped>\n",
              "    .dataframe tbody tr th:only-of-type {\n",
              "        vertical-align: middle;\n",
              "    }\n",
              "\n",
              "    .dataframe tbody tr th {\n",
              "        vertical-align: top;\n",
              "    }\n",
              "\n",
              "    .dataframe thead th {\n",
              "        text-align: right;\n",
              "    }\n",
              "</style>\n",
              "<table border=\"1\" class=\"dataframe\">\n",
              "  <thead>\n",
              "    <tr style=\"text-align: right;\">\n",
              "      <th></th>\n",
              "      <th>Bashorat</th>\n",
              "      <th>Real narx</th>\n",
              "    </tr>\n",
              "  </thead>\n",
              "  <tbody>\n",
              "    <tr>\n",
              "      <th>5846</th>\n",
              "      <td>214996.602587</td>\n",
              "      <td>200000.0</td>\n",
              "    </tr>\n",
              "    <tr>\n",
              "      <th>10189</th>\n",
              "      <td>257107.614237</td>\n",
              "      <td>175800.0</td>\n",
              "    </tr>\n",
              "    <tr>\n",
              "      <th>11740</th>\n",
              "      <td>114546.075549</td>\n",
              "      <td>216500.0</td>\n",
              "    </tr>\n",
              "    <tr>\n",
              "      <th>9327</th>\n",
              "      <td>320681.186933</td>\n",
              "      <td>500001.0</td>\n",
              "    </tr>\n",
              "    <tr>\n",
              "      <th>13743</th>\n",
              "      <td>163396.787816</td>\n",
              "      <td>135800.0</td>\n",
              "    </tr>\n",
              "    <tr>\n",
              "      <th>17374</th>\n",
              "      <td>178354.711601</td>\n",
              "      <td>136900.0</td>\n",
              "    </tr>\n",
              "    <tr>\n",
              "      <th>9409</th>\n",
              "      <td>336117.333107</td>\n",
              "      <td>400400.0</td>\n",
              "    </tr>\n",
              "    <tr>\n",
              "      <th>6511</th>\n",
              "      <td>129126.319235</td>\n",
              "      <td>184400.0</td>\n",
              "    </tr>\n",
              "    <tr>\n",
              "      <th>3862</th>\n",
              "      <td>241419.386498</td>\n",
              "      <td>337500.0</td>\n",
              "    </tr>\n",
              "    <tr>\n",
              "      <th>249</th>\n",
              "      <td>178946.640278</td>\n",
              "      <td>131900.0</td>\n",
              "    </tr>\n",
              "  </tbody>\n",
              "</table>\n",
              "</div>\n",
              "      <button class=\"colab-df-convert\" onclick=\"convertToInteractive('df-b03edfad-f234-46ff-8b27-f2025fc6f2c9')\"\n",
              "              title=\"Convert this dataframe to an interactive table.\"\n",
              "              style=\"display:none;\">\n",
              "        \n",
              "  <svg xmlns=\"http://www.w3.org/2000/svg\" height=\"24px\"viewBox=\"0 0 24 24\"\n",
              "       width=\"24px\">\n",
              "    <path d=\"M0 0h24v24H0V0z\" fill=\"none\"/>\n",
              "    <path d=\"M18.56 5.44l.94 2.06.94-2.06 2.06-.94-2.06-.94-.94-2.06-.94 2.06-2.06.94zm-11 1L8.5 8.5l.94-2.06 2.06-.94-2.06-.94L8.5 2.5l-.94 2.06-2.06.94zm10 10l.94 2.06.94-2.06 2.06-.94-2.06-.94-.94-2.06-.94 2.06-2.06.94z\"/><path d=\"M17.41 7.96l-1.37-1.37c-.4-.4-.92-.59-1.43-.59-.52 0-1.04.2-1.43.59L10.3 9.45l-7.72 7.72c-.78.78-.78 2.05 0 2.83L4 21.41c.39.39.9.59 1.41.59.51 0 1.02-.2 1.41-.59l7.78-7.78 2.81-2.81c.8-.78.8-2.07 0-2.86zM5.41 20L4 18.59l7.72-7.72 1.47 1.35L5.41 20z\"/>\n",
              "  </svg>\n",
              "      </button>\n",
              "      \n",
              "  <style>\n",
              "    .colab-df-container {\n",
              "      display:flex;\n",
              "      flex-wrap:wrap;\n",
              "      gap: 12px;\n",
              "    }\n",
              "\n",
              "    .colab-df-convert {\n",
              "      background-color: #E8F0FE;\n",
              "      border: none;\n",
              "      border-radius: 50%;\n",
              "      cursor: pointer;\n",
              "      display: none;\n",
              "      fill: #1967D2;\n",
              "      height: 32px;\n",
              "      padding: 0 0 0 0;\n",
              "      width: 32px;\n",
              "    }\n",
              "\n",
              "    .colab-df-convert:hover {\n",
              "      background-color: #E2EBFA;\n",
              "      box-shadow: 0px 1px 2px rgba(60, 64, 67, 0.3), 0px 1px 3px 1px rgba(60, 64, 67, 0.15);\n",
              "      fill: #174EA6;\n",
              "    }\n",
              "\n",
              "    [theme=dark] .colab-df-convert {\n",
              "      background-color: #3B4455;\n",
              "      fill: #D2E3FC;\n",
              "    }\n",
              "\n",
              "    [theme=dark] .colab-df-convert:hover {\n",
              "      background-color: #434B5C;\n",
              "      box-shadow: 0px 1px 3px 1px rgba(0, 0, 0, 0.15);\n",
              "      filter: drop-shadow(0px 1px 2px rgba(0, 0, 0, 0.3));\n",
              "      fill: #FFFFFF;\n",
              "    }\n",
              "  </style>\n",
              "\n",
              "      <script>\n",
              "        const buttonEl =\n",
              "          document.querySelector('#df-b03edfad-f234-46ff-8b27-f2025fc6f2c9 button.colab-df-convert');\n",
              "        buttonEl.style.display =\n",
              "          google.colab.kernel.accessAllowed ? 'block' : 'none';\n",
              "\n",
              "        async function convertToInteractive(key) {\n",
              "          const element = document.querySelector('#df-b03edfad-f234-46ff-8b27-f2025fc6f2c9');\n",
              "          const dataTable =\n",
              "            await google.colab.kernel.invokeFunction('convertToInteractive',\n",
              "                                                     [key], {});\n",
              "          if (!dataTable) return;\n",
              "\n",
              "          const docLinkHtml = 'Like what you see? Visit the ' +\n",
              "            '<a target=\"_blank\" href=https://colab.research.google.com/notebooks/data_table.ipynb>data table notebook</a>'\n",
              "            + ' to learn more about interactive tables.';\n",
              "          element.innerHTML = '';\n",
              "          dataTable['output_type'] = 'display_data';\n",
              "          await google.colab.output.renderOutput(dataTable, element);\n",
              "          const docLink = document.createElement('div');\n",
              "          docLink.innerHTML = docLinkHtml;\n",
              "          element.appendChild(docLink);\n",
              "        }\n",
              "      </script>\n",
              "    </div>\n",
              "  </div>\n",
              "  "
            ]
          },
          "metadata": {},
          "execution_count": 25
        }
      ]
    },
    {
      "cell_type": "code",
      "source": [
        ""
      ],
      "metadata": {
        "id": "egO23ovjs9BN"
      },
      "execution_count": null,
      "outputs": []
    }
  ]
}