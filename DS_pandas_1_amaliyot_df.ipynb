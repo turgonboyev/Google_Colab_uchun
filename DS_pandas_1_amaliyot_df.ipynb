{
  "nbformat": 4,
  "nbformat_minor": 0,
  "metadata": {
    "colab": {
      "name": "DS_pandas_1_amaliyot_df.ipynb",
      "provenance": [],
      "collapsed_sections": [],
      "include_colab_link": true
    },
    "kernelspec": {
      "display_name": "Python 3",
      "language": "python",
      "name": "python3"
    },
    "language_info": {
      "codemirror_mode": {
        "name": "ipython",
        "version": 3
      },
      "file_extension": ".py",
      "mimetype": "text/x-python",
      "name": "python",
      "nbconvert_exporter": "python",
      "pygments_lexer": "ipython3",
      "version": "3.8.8"
    }
  },
  "cells": [
    {
      "cell_type": "markdown",
      "metadata": {
        "id": "view-in-github",
        "colab_type": "text"
      },
      "source": [
        "<a href=\"https://colab.research.google.com/github/turgonboyev/Google_Colab_uchun/blob/main/DS_pandas_1_amaliyot_df.ipynb\" target=\"_parent\"><img src=\"https://colab.research.google.com/assets/colab-badge.svg\" alt=\"Open In Colab\"/></a>"
      ]
    },
    {
      "cell_type": "markdown",
      "metadata": {
        "id": "WyTfPJtEqH5C"
      },
      "source": [
        "# ![Imgur](https://i.imgur.com/5pXzCIu.png)\n",
        "\n",
        "# **DATA SCIENCE VA SUN'IY INTELLEKT PRAKTIKUM**\n",
        "\n",
        "## Ma'lumotlar tahlili. Pandas kutubxonasi.\n",
        "\n",
        "# **AMALIYOT**\n",
        "## 3.1 Series va Index"
      ]
    },
    {
      "cell_type": "markdown",
      "metadata": {
        "id": "FNLOb9yhxI0b"
      },
      "source": [
        "### **1-mashq**. `Pandas` kutubxonasini `pd`, `numpy` kutubxonasini `np` deb chaqirib oling"
      ]
    },
    {
      "cell_type": "code",
      "metadata": {
        "id": "GrbBfqRpxIFr"
      },
      "source": [
        "# Javobni shuyerga yozing\n",
        "import numpy as np\n",
        "import pandas as pd"
      ],
      "execution_count": 1,
      "outputs": []
    },
    {
      "cell_type": "code",
      "metadata": {
        "code_folding": [],
        "id": "24df0gBjIppl",
        "jupyter": {
          "source_hidden": true
        },
        "tags": [],
        "cellView": "form"
      },
      "source": [
        "#@title To'g'ri javob\n",
        "import pandas as pd\n",
        "import numpy as np"
      ],
      "execution_count": null,
      "outputs": []
    },
    {
      "cell_type": "markdown",
      "metadata": {
        "id": "4Utgz2Bf3GgB"
      },
      "source": [
        "### **2-mashq.** O'zbekiston Respublikasi viloyatlaridan iborat bir o'lchamli Series obyektini yarating "
      ]
    },
    {
      "cell_type": "code",
      "metadata": {
        "id": "PD7qQQH9oA87",
        "outputId": "ec3a0d67-da41-406b-91c8-a1297e1f17e4",
        "colab": {
          "base_uri": "https://localhost:8080/"
        }
      },
      "source": [
        "# Javobni shu yerga yozing\n",
        "obj = pd.Series([\n",
        "    'Andijon','Buxoro','Farg\\'ona','Jizzax','Xorazm','Namangan','Navoiy','Qashqadaryo','Qoraqalpog\\'iston Resp','Samarqand','Sirdaryo','Surxondaryo','Toshkent'\n",
        "])\n",
        "obj"
      ],
      "execution_count": 3,
      "outputs": [
        {
          "output_type": "execute_result",
          "data": {
            "text/plain": [
              "0                   Andijon\n",
              "1                    Buxoro\n",
              "2                  Farg'ona\n",
              "3                    Jizzax\n",
              "4                    Xorazm\n",
              "5                  Namangan\n",
              "6                    Navoiy\n",
              "7               Qashqadaryo\n",
              "8     Qoraqalpog'iston Resp\n",
              "9                 Samarqand\n",
              "10                 Sirdaryo\n",
              "11              Surxondaryo\n",
              "12                 Toshkent\n",
              "dtype: object"
            ]
          },
          "metadata": {},
          "execution_count": 3
        }
      ]
    },
    {
      "cell_type": "code",
      "metadata": {
        "cellView": "form",
        "code_folding": [
          0
        ],
        "colab": {
          "base_uri": "https://localhost:8080/"
        },
        "id": "u0m-fPU43iPn",
        "jupyter": {
          "source_hidden": true
        },
        "tags": [],
        "outputId": "9c69c119-dc53-4904-bbd4-c70983760681"
      },
      "source": [
        "#@title **To'g'ri javob**\n",
        "obj = pd.Series(\n",
        "    [\n",
        "        \"Andijon\",\n",
        "        \"Buxoro\",\n",
        "        \"Farg'ona\",\n",
        "        \"Jizzax\",\n",
        "        \"Xorazm\",\n",
        "        \"Namangan\",\n",
        "        \"Navoiy\",\n",
        "        \"Qashqadaryo\",\n",
        "        \"Qoraqalpog'iston Respublikasi\",\n",
        "        \"Samarqand\",\n",
        "        \"Sirdaryo\",\n",
        "        \"Surxondaryo\",\n",
        "        \"Toshkent\",\n",
        "    ]\n",
        ")\n",
        "print(obj)"
      ],
      "execution_count": null,
      "outputs": [
        {
          "name": "stdout",
          "output_type": "stream",
          "text": [
            "0                           Andijon\n",
            "1                            Buxoro\n",
            "2                          Farg'ona\n",
            "3                            Jizzax\n",
            "4                            Xorazm\n",
            "5                          Namangan\n",
            "6                            Navoiy\n",
            "7                       Qashqadaryo\n",
            "8     Qoraqalpog'iston Respublikasi\n",
            "9                         Samarqand\n",
            "10                         Sirdaryo\n",
            "11                      Surxondaryo\n",
            "12                         Toshkent\n",
            "dtype: object\n"
          ]
        }
      ]
    },
    {
      "cell_type": "markdown",
      "metadata": {
        "id": "HNKNuN67pQzX"
      },
      "source": [
        "### **3-mashq.** Yuqorida yaratilgan Series obyektining barcha qiymaltarini chiqaring"
      ]
    },
    {
      "cell_type": "code",
      "metadata": {
        "id": "DLduyoXjqkSx",
        "outputId": "d16b0293-5cb5-4dc7-f7fb-4479be3f9cad",
        "colab": {
          "base_uri": "https://localhost:8080/"
        }
      },
      "source": [
        "# Javobni shuyerga yozing\n",
        "obj.values\n"
      ],
      "execution_count": 6,
      "outputs": [
        {
          "output_type": "execute_result",
          "data": {
            "text/plain": [
              "array(['Andijon', 'Buxoro', \"Farg'ona\", 'Jizzax', 'Xorazm', 'Namangan',\n",
              "       'Navoiy', 'Qashqadaryo', \"Qoraqalpog'iston Resp\", 'Samarqand',\n",
              "       'Sirdaryo', 'Surxondaryo', 'Toshkent'], dtype=object)"
            ]
          },
          "metadata": {},
          "execution_count": 6
        }
      ]
    },
    {
      "cell_type": "code",
      "metadata": {
        "code_folding": [
          0
        ],
        "colab": {
          "base_uri": "https://localhost:8080/"
        },
        "id": "SDdwnLJ731EK",
        "jupyter": {
          "source_hidden": true
        },
        "tags": [],
        "outputId": "22927e2d-fcaf-47ff-ace5-8969cb1a2d2b"
      },
      "source": [
        "# @title **To'g'ri javob**\n",
        "obj.values"
      ],
      "execution_count": null,
      "outputs": [
        {
          "data": {
            "text/plain": [
              "array(['Andijon', 'Buxoro', \"Farg'ona\", 'Jizzax', 'Xorazm', 'Namangan',\n",
              "       'Navoiy', 'Qashqadaryo', \"Qoraqalpog'iston Respublikasi\",\n",
              "       'Samarqand', 'Sirdaryo', 'Surxondaryo', 'Toshkent'], dtype=object)"
            ]
          },
          "execution_count": 8,
          "metadata": {},
          "output_type": "execute_result"
        }
      ]
    },
    {
      "cell_type": "markdown",
      "metadata": {
        "id": "dfiWArV2qvTr"
      },
      "source": [
        "### **4-mashq.** Yuqoridagi Series obyektining eng birinchi qiymatini chiqaring"
      ]
    },
    {
      "cell_type": "code",
      "metadata": {
        "id": "On9qxbkehV9e",
        "outputId": "41094e54-ce70-4fc4-e6d1-59ab9a534bc2",
        "colab": {
          "base_uri": "https://localhost:8080/",
          "height": 35
        }
      },
      "source": [
        "# Javobni shuyerga yozing\n",
        "obj.values[0]"
      ],
      "execution_count": 7,
      "outputs": [
        {
          "output_type": "execute_result",
          "data": {
            "application/vnd.google.colaboratory.intrinsic+json": {
              "type": "string"
            },
            "text/plain": [
              "'Andijon'"
            ]
          },
          "metadata": {},
          "execution_count": 7
        }
      ]
    },
    {
      "cell_type": "code",
      "metadata": {
        "code_folding": [
          0
        ],
        "colab": {
          "base_uri": "https://localhost:8080/",
          "height": 35
        },
        "id": "_Dn-oksDv5zL",
        "jupyter": {
          "source_hidden": true
        },
        "tags": [],
        "outputId": "4452f0a2-3eca-45c4-ebc8-3a24fc77b814"
      },
      "source": [
        "# @title **To'g'ri javob**\n",
        "obj[0]"
      ],
      "execution_count": null,
      "outputs": [
        {
          "data": {
            "text/plain": [
              "'Andijon'"
            ]
          },
          "execution_count": 10,
          "metadata": {},
          "output_type": "execute_result"
        }
      ]
    },
    {
      "cell_type": "markdown",
      "metadata": {
        "id": "ARL6cU7KhPUO"
      },
      "source": [
        "### **5-mashq.** Yuqoridagi Series obyektining eng oxirgi qiymatini chiqaring"
      ]
    },
    {
      "cell_type": "code",
      "metadata": {
        "id": "nIDEksXShLO5",
        "outputId": "7fd697fb-a35b-4877-8a8a-5d2f73dcc36a",
        "colab": {
          "base_uri": "https://localhost:8080/",
          "height": 35
        }
      },
      "source": [
        "# Javobni shuyerga yozing\n",
        "obj.iloc[-1]"
      ],
      "execution_count": 10,
      "outputs": [
        {
          "output_type": "execute_result",
          "data": {
            "application/vnd.google.colaboratory.intrinsic+json": {
              "type": "string"
            },
            "text/plain": [
              "'Toshkent'"
            ]
          },
          "metadata": {},
          "execution_count": 10
        }
      ]
    },
    {
      "cell_type": "code",
      "metadata": {
        "code_folding": [
          0
        ],
        "colab": {
          "base_uri": "https://localhost:8080/",
          "height": 35
        },
        "id": "wnan3_t1hYkG",
        "jupyter": {
          "source_hidden": true
        },
        "tags": [],
        "outputId": "b0c02f06-6978-4e07-ff76-31aec5964d48"
      },
      "source": [
        "# @title **To'g'ri javob**\n",
        "obj[12]"
      ],
      "execution_count": null,
      "outputs": [
        {
          "data": {
            "text/plain": [
              "'Toshkent'"
            ]
          },
          "execution_count": 12,
          "metadata": {},
          "output_type": "execute_result"
        }
      ]
    },
    {
      "cell_type": "markdown",
      "metadata": {
        "id": "peT8QIPdh2SM"
      },
      "source": [
        "### **6-mashq.** Yuqoridagi Series obyekti uzunligini chiqaring"
      ]
    },
    {
      "cell_type": "code",
      "metadata": {
        "id": "g72orrMvheN4",
        "outputId": "2a7982e5-d393-4e2a-c651-f8d0475ba5c4",
        "colab": {
          "base_uri": "https://localhost:8080/"
        }
      },
      "source": [
        "# Javobni shuyerga yozing\n",
        "obj.size"
      ],
      "execution_count": 12,
      "outputs": [
        {
          "output_type": "execute_result",
          "data": {
            "text/plain": [
              "13"
            ]
          },
          "metadata": {},
          "execution_count": 12
        }
      ]
    },
    {
      "cell_type": "code",
      "metadata": {
        "code_folding": [
          0
        ],
        "colab": {
          "base_uri": "https://localhost:8080/"
        },
        "id": "ICENpA_JiFgl",
        "jupyter": {
          "source_hidden": true
        },
        "tags": [],
        "outputId": "6586853d-a479-47c3-a94e-e0a7aa468812"
      },
      "source": [
        "# @title **To'g'ri javob**\n",
        "obj.size"
      ],
      "execution_count": 13,
      "outputs": [
        {
          "output_type": "execute_result",
          "data": {
            "text/plain": [
              "13"
            ]
          },
          "metadata": {},
          "execution_count": 13
        }
      ]
    },
    {
      "cell_type": "markdown",
      "metadata": {
        "id": "ZbXRPkW5iNDw"
      },
      "source": [
        "### **7-mashq.** Yuqoridagi Series obyektining o'rtasidan 3 ta qiymat chiqaring"
      ]
    },
    {
      "cell_type": "code",
      "metadata": {
        "id": "7DZChnAQiczM",
        "outputId": "2e285a5a-ba2b-4f9a-ba10-571c3d03137b",
        "colab": {
          "base_uri": "https://localhost:8080/"
        }
      },
      "source": [
        "# Javobni shuyerga yozing\n",
        "obj[5:8]"
      ],
      "execution_count": 15,
      "outputs": [
        {
          "output_type": "execute_result",
          "data": {
            "text/plain": [
              "5       Namangan\n",
              "6         Navoiy\n",
              "7    Qashqadaryo\n",
              "dtype: object"
            ]
          },
          "metadata": {},
          "execution_count": 15
        }
      ]
    },
    {
      "cell_type": "code",
      "metadata": {
        "code_folding": [
          0
        ],
        "colab": {
          "base_uri": "https://localhost:8080/"
        },
        "id": "EVtmpTXhieqB",
        "jupyter": {
          "source_hidden": true
        },
        "tags": [],
        "outputId": "ec2e862d-0c49-4854-f944-28e5301a329e"
      },
      "source": [
        "# @title **To'g'ri javob**\n",
        "\n",
        "obj[[5, 6, 7]]"
      ],
      "execution_count": null,
      "outputs": [
        {
          "data": {
            "text/plain": [
              "5       Namangan\n",
              "6         Navoiy\n",
              "7    Qashqadaryo\n",
              "dtype: object"
            ]
          },
          "execution_count": 16,
          "metadata": {},
          "output_type": "execute_result"
        }
      ]
    },
    {
      "cell_type": "markdown",
      "metadata": {
        "id": "1pjPsrTFjG4v"
      },
      "source": [
        "### **8-mashq.** Quyidagi Series obyektini yarating.\n",
        "**Ahamiyat bering. `Series` obyekti indeksi sifatida viloyatlar nomi ishlatilgan**"
      ]
    },
    {
      "cell_type": "code",
      "metadata": {
        "code_folding": [
          0
        ],
        "colab": {
          "base_uri": "https://localhost:8080/"
        },
        "id": "wXmpomZCiv5f",
        "jupyter": {
          "source_hidden": true
        },
        "tags": [],
        "outputId": "7e36c7d2-eaf7-42fd-9e37-b267f346b685"
      },
      "source": [
        "# @title\n",
        "ind = obj.values\n",
        "aholi = [\n",
        "    1899000,\n",
        "    1384700,\n",
        "    2597000,\n",
        "    910500,\n",
        "    1200000,\n",
        "    1862000,\n",
        "    767500,\n",
        "    2029000,\n",
        "    1200000,\n",
        "    2322000,\n",
        "    648100,\n",
        "    1676000,\n",
        "    4450000,\n",
        "]\n",
        "obj2 = pd.Series(aholi, index=ind)\n",
        "print(obj2)"
      ],
      "execution_count": null,
      "outputs": [
        {
          "name": "stdout",
          "output_type": "stream",
          "text": [
            "Andijon                          1899000\n",
            "Buxoro                           1384700\n",
            "Farg'ona                         2597000\n",
            "Jizzax                            910500\n",
            "Xorazm                           1200000\n",
            "Namangan                         1862000\n",
            "Navoiy                            767500\n",
            "Qashqadaryo                      2029000\n",
            "Qoraqalpog'iston Respublikasi    1200000\n",
            "Samarqand                        2322000\n",
            "Sirdaryo                          648100\n",
            "Surxondaryo                      1676000\n",
            "Toshkent                         4450000\n",
            "dtype: int64\n"
          ]
        }
      ]
    },
    {
      "cell_type": "code",
      "metadata": {
        "id": "ehlAxUD6jEjx",
        "outputId": "a61a83c2-3fc3-4f3d-fd8d-ca7f5903e80d",
        "colab": {
          "base_uri": "https://localhost:8080/"
        }
      },
      "source": [
        "# Javobni shuyerga yozing\n",
        "data = {'Andijon': 1899000, 'Buxoro': 1384700,'Farg\\'ona': 2597000,'Jizzax': 910500,'Xorazm': 1200000,'Namangan': 1862000,'Navoiy': 767500,'Qashqadaryo': 2029000,'Qoraqalpog\\'iston Resp': 1200000,'Samarqand': 2322000,'Sirdaryo': 648100,'Surxondaryo': 1676000,'Toshkent': 4450000  }\n",
        "serc = pd.Series(data)\n",
        "serc"
      ],
      "execution_count": 16,
      "outputs": [
        {
          "output_type": "execute_result",
          "data": {
            "text/plain": [
              "Andijon                  1899000\n",
              "Buxoro                   1384700\n",
              "Farg'ona                 2597000\n",
              "Jizzax                    910500\n",
              "Xorazm                   1200000\n",
              "Namangan                 1862000\n",
              "Navoiy                    767500\n",
              "Qashqadaryo              2029000\n",
              "Qoraqalpog'iston Resp    1200000\n",
              "Samarqand                2322000\n",
              "Sirdaryo                  648100\n",
              "Surxondaryo              1676000\n",
              "Toshkent                 4450000\n",
              "dtype: int64"
            ]
          },
          "metadata": {},
          "execution_count": 16
        }
      ]
    },
    {
      "cell_type": "markdown",
      "metadata": {
        "id": "_xG9zq_KkTXn"
      },
      "source": [
        "### **9-mashq.** Yuqoridagi `Series` obyektidan Jizzax, Buxoro va Namangan viloyatlarining aholisini chiqaring"
      ]
    },
    {
      "cell_type": "code",
      "metadata": {
        "id": "71ZC0ZKoki_N",
        "outputId": "ec06a9ac-234d-4ed1-cb14-e1ba3c8ab574",
        "colab": {
          "base_uri": "https://localhost:8080/"
        }
      },
      "source": [
        "# Javobni shuyerga yozing\n",
        "serc[['Jizzax', 'Buxoro', 'Namangan']]"
      ],
      "execution_count": 18,
      "outputs": [
        {
          "output_type": "execute_result",
          "data": {
            "text/plain": [
              "Jizzax       910500\n",
              "Buxoro      1384700\n",
              "Namangan    1862000\n",
              "dtype: int64"
            ]
          },
          "metadata": {},
          "execution_count": 18
        }
      ]
    },
    {
      "cell_type": "code",
      "metadata": {
        "code_folding": [
          0
        ],
        "colab": {
          "base_uri": "https://localhost:8080/"
        },
        "id": "Nd-jwIiZkkxW",
        "jupyter": {
          "source_hidden": true
        },
        "tags": [],
        "outputId": "50ea8f77-b4ea-4f0b-9bc6-77aa98a93f61"
      },
      "source": [
        "# @title **To'g'ri javob**\n",
        "obj2[[\"Jizzax\", \"Buxoro\", \"Namangan\"]]"
      ],
      "execution_count": null,
      "outputs": [
        {
          "data": {
            "text/plain": [
              "Jizzax       910500\n",
              "Buxoro      1384700\n",
              "Namangan    1862000\n",
              "dtype: int64"
            ]
          },
          "execution_count": 20,
          "metadata": {},
          "output_type": "execute_result"
        }
      ]
    },
    {
      "cell_type": "markdown",
      "metadata": {
        "id": "d2ci3QWEkuEN"
      },
      "source": [
        "### **10-mashq.** Yuqoridagi `Series` obyektidan aholi soni 1 milliondan kam va ko'p bo'lgan viloyatlarni alohida chiqaring"
      ]
    },
    {
      "cell_type": "code",
      "metadata": {
        "id": "ENuCHKPukr6X",
        "outputId": "9a524cff-6f6d-44d2-8c6b-0e0f8a597e94",
        "colab": {
          "base_uri": "https://localhost:8080/"
        }
      },
      "source": [
        "# Javobni shuyerga yozing\n",
        "print('Aholisi 1 mln dan kop viloyatlar')\n",
        "print(serc[serc > 1000000])\n",
        "print('Aholisi 1 mln dan kam viloyatlar')\n",
        "print(serc[serc < 1000000])"
      ],
      "execution_count": 20,
      "outputs": [
        {
          "output_type": "stream",
          "name": "stdout",
          "text": [
            "Aholisi 1 mln dan kop viloyatlar\n",
            "Andijon                  1899000\n",
            "Buxoro                   1384700\n",
            "Farg'ona                 2597000\n",
            "Xorazm                   1200000\n",
            "Namangan                 1862000\n",
            "Qashqadaryo              2029000\n",
            "Qoraqalpog'iston Resp    1200000\n",
            "Samarqand                2322000\n",
            "Surxondaryo              1676000\n",
            "Toshkent                 4450000\n",
            "dtype: int64\n",
            "Aholisi 1 mln dan kam viloyatlar\n",
            "Jizzax      910500\n",
            "Navoiy      767500\n",
            "Sirdaryo    648100\n",
            "dtype: int64\n"
          ]
        }
      ]
    },
    {
      "cell_type": "code",
      "metadata": {
        "cellView": "form",
        "code_folding": [
          0
        ],
        "colab": {
          "base_uri": "https://localhost:8080/"
        },
        "id": "C-IZM30Fk_jM",
        "jupyter": {
          "source_hidden": true
        },
        "tags": [],
        "outputId": "19b1f26d-4861-458d-e895-5c5840eb9f46"
      },
      "source": [
        "# @title **To'g'ri javob**\n",
        "print(\"Aholisi 1 milliondan ko'p viloyatlar\")\n",
        "print(obj2[obj2 > 1_000_000])\n",
        "# Pythonda katta sonlarni yozishda 0 orasini _ bilan ajratish mumkin"
      ],
      "execution_count": null,
      "outputs": [
        {
          "name": "stdout",
          "output_type": "stream",
          "text": [
            "Aholisi 1 milliondan ko'p viloyatlar\n",
            "Andijon                          1899000\n",
            "Buxoro                           1384700\n",
            "Farg'ona                         2597000\n",
            "Xorazm                           1200000\n",
            "Namangan                         1862000\n",
            "Qashqadaryo                      2029000\n",
            "Qoraqalpog'iston Respublikasi    1200000\n",
            "Samarqand                        2322000\n",
            "Surxondaryo                      1676000\n",
            "Toshkent                         4450000\n",
            "dtype: int64\n"
          ]
        }
      ]
    },
    {
      "cell_type": "code",
      "metadata": {
        "cellView": "form",
        "code_folding": [
          0
        ],
        "colab": {
          "base_uri": "https://localhost:8080/"
        },
        "id": "lUevJ5D7lK0m",
        "jupyter": {
          "source_hidden": true
        },
        "tags": [],
        "outputId": "32e16bbe-1512-4f72-cdcd-b73930a0dbe3"
      },
      "source": [
        "# @title\n",
        "print(\"Aholisi 1 milliondan kam viloyatlar\")\n",
        "print(obj2[obj2 < 1_000_000])"
      ],
      "execution_count": null,
      "outputs": [
        {
          "name": "stdout",
          "output_type": "stream",
          "text": [
            "Aholisi 1 milliondan kam viloyatlar\n",
            "Jizzax      910500\n",
            "Navoiy      767500\n",
            "Sirdaryo    648100\n",
            "dtype: int64\n"
          ]
        }
      ]
    },
    {
      "cell_type": "markdown",
      "metadata": {
        "id": "RX_PQaBdlmmO"
      },
      "source": [
        "### **11-mashq.** Aholisi 1 milliondan ko'p davlatlar orasida Navoiy viloyati bor/yo'qligini tekshiring"
      ]
    },
    {
      "cell_type": "code",
      "metadata": {
        "id": "gJqjvEcRlcme",
        "outputId": "6d011857-adc5-43d4-c393-d9c44842d629",
        "colab": {
          "base_uri": "https://localhost:8080/"
        }
      },
      "source": [
        "# Javobni shuyerga yozing\n",
        "#  serc[serc > 1000000] == 'Navoiy'\n",
        "'Navoiy' in serc[serc > 1_000_000]"
      ],
      "execution_count": 22,
      "outputs": [
        {
          "output_type": "execute_result",
          "data": {
            "text/plain": [
              "False"
            ]
          },
          "metadata": {},
          "execution_count": 22
        }
      ]
    },
    {
      "cell_type": "code",
      "metadata": {
        "code_folding": [
          0
        ],
        "colab": {
          "base_uri": "https://localhost:8080/"
        },
        "id": "5bzl-eT-l3ft",
        "jupyter": {
          "source_hidden": true
        },
        "tags": [],
        "outputId": "c0dace8a-20b4-4e6c-8587-4be8d9183c9a"
      },
      "source": [
        "# @title **To'g'ri javob**\n",
        "\"Navoiy\" in obj2[obj2 > 1_000_000]"
      ],
      "execution_count": null,
      "outputs": [
        {
          "data": {
            "text/plain": [
              "False"
            ]
          },
          "execution_count": 25,
          "metadata": {},
          "output_type": "execute_result"
        }
      ]
    },
    {
      "cell_type": "markdown",
      "metadata": {
        "id": "5m-FKutVmLpA"
      },
      "source": [
        "### **12-mashq.** Quyidagi lug'atda viloyatlar va ularning maydonlari berilgan. Lug'atdan yangi `Series` obyektini yarating va unga \"Hududlar hajmi\" deb nom bering"
      ]
    },
    {
      "cell_type": "code",
      "metadata": {
        "code_folding": [],
        "id": "sr3vN7vFl_GZ"
      },
      "source": [
        "dict = {\n",
        "    \"Andijon\": 4200,\n",
        "    \"Buxoro\": 39400,\n",
        "    \"Farg'ona\": 6800,\n",
        "    \"Jizzax\": 20500,\n",
        "    \"Xorazm\": 6300,\n",
        "    \"Namangan\": 7900,\n",
        "    \"Navoiy\": 110800,\n",
        "    \"Qashqadaryo\": 28400,\n",
        "    \"Qoraqalpog'iston Respublikasi\": 160000,\n",
        "    \"Samarqand\": 16400,\n",
        "    \"Sirdaryo\": 5100,\n",
        "    \"Surxondaryo\": 20800,\n",
        "    \"Toshkent\": 15300,\n",
        "}"
      ],
      "execution_count": 24,
      "outputs": []
    },
    {
      "cell_type": "code",
      "metadata": {
        "code_folding": [],
        "id": "OmkdZo62MaUD",
        "outputId": "784844b8-af59-4a7b-c28b-2db6518effe0",
        "colab": {
          "base_uri": "https://localhost:8080/"
        }
      },
      "source": [
        "# Javobni shuyerga yozing\n",
        "sr = pd.Series(dict)\n",
        "sr.name = 'Hududlar hajmi'\n",
        "sr\n"
      ],
      "execution_count": 25,
      "outputs": [
        {
          "output_type": "execute_result",
          "data": {
            "text/plain": [
              "Andijon                            4200\n",
              "Buxoro                            39400\n",
              "Farg'ona                           6800\n",
              "Jizzax                            20500\n",
              "Xorazm                             6300\n",
              "Namangan                           7900\n",
              "Navoiy                           110800\n",
              "Qashqadaryo                       28400\n",
              "Qoraqalpog'iston Respublikasi    160000\n",
              "Samarqand                         16400\n",
              "Sirdaryo                           5100\n",
              "Surxondaryo                       20800\n",
              "Toshkent                          15300\n",
              "Name: Hududlar hajmi, dtype: int64"
            ]
          },
          "metadata": {},
          "execution_count": 25
        }
      ]
    },
    {
      "cell_type": "code",
      "metadata": {
        "code_folding": [
          0
        ],
        "jupyter": {
          "source_hidden": true
        },
        "tags": [],
        "id": "kIPqYAlxMaUD",
        "outputId": "5d02237b-86fb-45e6-cca2-3a658dfb53a2"
      },
      "source": [
        "#@title To'g'ri javob\n",
        "obj3 = pd.Series(dict)\n",
        "obj3.name = \"Hudular hajmi\"\n",
        "print(obj3)"
      ],
      "execution_count": null,
      "outputs": [
        {
          "name": "stdout",
          "output_type": "stream",
          "text": [
            "Andijon                            4200\n",
            "Buxoro                            39400\n",
            "Farg'ona                           6800\n",
            "Jizzax                            20500\n",
            "Xorazm                             6300\n",
            "Namangan                           7900\n",
            "Navoiy                           110800\n",
            "Qashqadaryo                       28400\n",
            "Qoraqalpog'iston Respublikasi    160000\n",
            "Samarqand                         16400\n",
            "Sirdaryo                           5100\n",
            "Surxondaryo                       20800\n",
            "Toshkent                          15300\n",
            "Name: Hudular hajmi, dtype: int64\n"
          ]
        }
      ]
    },
    {
      "cell_type": "markdown",
      "metadata": {
        "id": "1WlWLIfvMaUD"
      },
      "source": [
        "### **13-mashq.** Yuqoridagi `Series` obyektidan hududi eng katta va eng kichik elementlarni chiqaring"
      ]
    },
    {
      "cell_type": "code",
      "metadata": {
        "id": "cfQUklJ3MaUD",
        "outputId": "3847ae6f-5d49-42a4-d160-12bf584b4fe2",
        "colab": {
          "base_uri": "https://localhost:8080/"
        }
      },
      "source": [
        "# Javobni shuyerga yozing\n",
        "print(f\"Eng kattasi : {sr.idxmax()}\")\n",
        "print(f\"Eng kichigi : {sr.idxmin()}\")"
      ],
      "execution_count": 29,
      "outputs": [
        {
          "output_type": "stream",
          "name": "stdout",
          "text": [
            "Eng kattasi : Qoraqalpog'iston Respublikasi\n",
            "Eng kichigi : Andijon\n"
          ]
        }
      ]
    },
    {
      "cell_type": "code",
      "metadata": {
        "code_folding": [
          0
        ],
        "jupyter": {
          "source_hidden": true
        },
        "tags": [],
        "id": "iwVCGmISMaUD",
        "outputId": "c2220771-5661-4f49-aa5a-331e71e0d9af"
      },
      "source": [
        "#@title To'g'ri javob\n",
        "print(f\"Eng katta hudud: {obj3.idxmax()}\")\n",
        "print(f\"Eng kichik hudud: {obj3.idxmin()}\")"
      ],
      "execution_count": null,
      "outputs": [
        {
          "name": "stdout",
          "output_type": "stream",
          "text": [
            "Eng katta hudud: Qoraqalpog'iston Respublikasi\n",
            "Eng kichik hudud: Andijon\n"
          ]
        }
      ]
    },
    {
      "cell_type": "markdown",
      "metadata": {
        "id": "hyCJqv3gMaUE"
      },
      "source": [
        "### **14-mashq.** Yuqoridagi eng katta va eng kichik hududlar aholisi sonini chiqaring"
      ]
    },
    {
      "cell_type": "code",
      "metadata": {
        "id": "wu26U94yMaUE",
        "outputId": "a70e529e-b392-431d-f845-86bc4ed86787",
        "colab": {
          "base_uri": "https://localhost:8080/"
        }
      },
      "source": [
        "# Javobni shuyerga yozing\n",
        "max = sr.idxmax()\n",
        "print(max)\n",
        "print(sr[max])"
      ],
      "execution_count": 34,
      "outputs": [
        {
          "output_type": "stream",
          "name": "stdout",
          "text": [
            "Qoraqalpog'iston Respublikasi\n",
            "160000\n"
          ]
        }
      ]
    },
    {
      "cell_type": "code",
      "metadata": {
        "code_folding": [
          0
        ],
        "jupyter": {
          "source_hidden": true
        },
        "tags": [],
        "id": "bu_B5iFwMaUE",
        "outputId": "af5613de-dd5f-47e3-e1ff-9f3ff0327720"
      },
      "source": [
        "#@title To'g'ri javob\n",
        "print(f\"{obj3.idxmax()} aholisi {obj2[obj3.idxmax()]}\")\n",
        "print(f\"{obj3.idxmin()} aholisi {obj2[obj3.idxmin()]}\")"
      ],
      "execution_count": null,
      "outputs": [
        {
          "name": "stdout",
          "output_type": "stream",
          "text": [
            "Qoraqalpog'iston Respublikasi aholisi 1200000\n",
            "Andijon aholisi 1899000\n"
          ]
        }
      ]
    },
    {
      "cell_type": "markdown",
      "metadata": {
        "id": "C6M1A-wZMaUE"
      },
      "source": [
        "### **15-mashq**. Yuqoridagi hudulardan O'zbekiston Respublikasi hududini hisoblang"
      ]
    },
    {
      "cell_type": "code",
      "metadata": {
        "id": "lBjvOsu_MaUE",
        "outputId": "3889b9c5-02a0-4931-a6f9-6fa66ac868c6",
        "colab": {
          "base_uri": "https://localhost:8080/"
        }
      },
      "source": [
        "# Javobni shuyerga yozing\n",
        "print(sr.sum())"
      ],
      "execution_count": 35,
      "outputs": [
        {
          "output_type": "stream",
          "name": "stdout",
          "text": [
            "441900\n"
          ]
        }
      ]
    },
    {
      "cell_type": "code",
      "metadata": {
        "code_folding": [
          0
        ],
        "jupyter": {
          "source_hidden": true
        },
        "tags": [],
        "id": "Fq9J3uC-MaUE",
        "outputId": "b517fc4f-af64-4203-f80f-8b289f610655"
      },
      "source": [
        "#@title To'g'ri javob\n",
        "sum(obj3)"
      ],
      "execution_count": null,
      "outputs": [
        {
          "data": {
            "text/plain": [
              "441900"
            ]
          },
          "execution_count": 54,
          "metadata": {},
          "output_type": "execute_result"
        }
      ]
    },
    {
      "cell_type": "markdown",
      "metadata": {
        "id": "VG1qyIWfMaUF"
      },
      "source": [
        "### **16-mashq.** Aholisi eng ko'p va eng kam hududlarning hajmini va aholi sonini chiqaring"
      ]
    },
    {
      "cell_type": "code",
      "metadata": {
        "id": "wpqDW7mEMaUF",
        "outputId": "c3634bbe-871b-46df-94c0-ce82361e0b11",
        "colab": {
          "base_uri": "https://localhost:8080/"
        }
      },
      "source": [
        "# Javobni shuyerga yozing\n",
        "aholisikopi = serc.idxmax()\n",
        "aholisikami = serc.idxmin()\n",
        "print(f\"{aholisikopi} Aholisi eng ko'pining hududi {sr[aholisikopi]} aholisi soni {serc[aholisikopi]}\")\n",
        "print(f\"{aholisikami} Aholisi eng ko'pining hududi {sr[aholisikami]} aholisi soni {serc[aholisikami]}\")"
      ],
      "execution_count": 38,
      "outputs": [
        {
          "output_type": "stream",
          "name": "stdout",
          "text": [
            "Toshkent Aholisi eng ko'pining hududi 15300 aholisi soni 4450000\n",
            "Sirdaryo Aholisi eng ko'pining hududi 5100 aholisi soni 648100\n"
          ]
        }
      ]
    },
    {
      "cell_type": "code",
      "metadata": {
        "code_folding": [
          0
        ],
        "jupyter": {
          "source_hidden": true
        },
        "tags": [],
        "cellView": "form",
        "id": "mlK_8JEfMaUF",
        "outputId": "8ef5d64d-601a-48ca-95a9-30c808507d6d"
      },
      "source": [
        "#@title To'g'ri javob\n",
        "print(f\"{obj2.idxmax()} hududi {obj3[obj2.idxmax()]}kv.km, aholisi {obj2[obj2.idxmax()]}\")\n",
        "print(f\"{obj2.idxmin()} hududi {obj3[obj2.idxmin()]}kv.km, aholisi {obj2[obj2.idxmin()]}\")"
      ],
      "execution_count": null,
      "outputs": [
        {
          "name": "stdout",
          "output_type": "stream",
          "text": [
            "Toshkent hududi 15300kv.km, aholisi 4450000\n",
            "Sirdaryo hududi 5100kv.km, aholisi 648100\n"
          ]
        }
      ]
    },
    {
      "cell_type": "markdown",
      "metadata": {
        "id": "DVnpsFuBMaUF"
      },
      "source": [
        "### **17-mashq.** Yuqoridagi ikki obyektdan foydalangan holda O'zbekiston respublikasi tarkibidagi hududlarni avval aholi soni bo'yicha, keyin esa hajmi bo'yicha tartiblab chiqaring"
      ]
    },
    {
      "cell_type": "code",
      "metadata": {
        "id": "ritVgX4bMaUF",
        "outputId": "3e940018-b5b8-4b7b-ef31-4a4402b337f4",
        "colab": {
          "base_uri": "https://localhost:8080/"
        }
      },
      "source": [
        "# Javobni shuyerga yozing\n",
        "print('Aholi soni \\n\\n')\n",
        "\n",
        "print(serc.sort_values())\n",
        "\n",
        "print('Hajmi kattasi  \\n')\n",
        "\n",
        "print(sr.sort_values())"
      ],
      "execution_count": 45,
      "outputs": [
        {
          "output_type": "stream",
          "name": "stdout",
          "text": [
            "Aholi soni \n",
            "\n",
            "\n",
            "Sirdaryo                  648100\n",
            "Navoiy                    767500\n",
            "Jizzax                    910500\n",
            "Xorazm                   1200000\n",
            "Qoraqalpog'iston Resp    1200000\n",
            "Buxoro                   1384700\n",
            "Surxondaryo              1676000\n",
            "Namangan                 1862000\n",
            "Andijon                  1899000\n",
            "Qashqadaryo              2029000\n",
            "Samarqand                2322000\n",
            "Farg'ona                 2597000\n",
            "Toshkent                 4450000\n",
            "dtype: int64\n",
            "Hajmi kattasi  \n",
            "\n",
            "Andijon                            4200\n",
            "Sirdaryo                           5100\n",
            "Xorazm                             6300\n",
            "Farg'ona                           6800\n",
            "Namangan                           7900\n",
            "Toshkent                          15300\n",
            "Samarqand                         16400\n",
            "Jizzax                            20500\n",
            "Surxondaryo                       20800\n",
            "Qashqadaryo                       28400\n",
            "Buxoro                            39400\n",
            "Navoiy                           110800\n",
            "Qoraqalpog'iston Respublikasi    160000\n",
            "Name: Hududlar hajmi, dtype: int64\n"
          ]
        }
      ]
    },
    {
      "cell_type": "code",
      "metadata": {
        "code_folding": [
          0
        ],
        "jupyter": {
          "source_hidden": true
        },
        "tags": [],
        "id": "uzGYBpU-MaUF",
        "outputId": "1e991202-691a-4201-8f6b-4373c78dfc89"
      },
      "source": [
        "#@title To'g'ri javob\n",
        "print(\"Hududlar hajmi bo'yicha tartiblash\")\n",
        "obj3.sort_values()"
      ],
      "execution_count": null,
      "outputs": [
        {
          "name": "stdout",
          "output_type": "stream",
          "text": [
            "Hududlar hajmi bo'yicha tartiblash\n"
          ]
        },
        {
          "data": {
            "text/plain": [
              "Andijon                            4200\n",
              "Sirdaryo                           5100\n",
              "Xorazm                             6300\n",
              "Farg'ona                           6800\n",
              "Namangan                           7900\n",
              "Toshkent                          15300\n",
              "Samarqand                         16400\n",
              "Jizzax                            20500\n",
              "Surxondaryo                       20800\n",
              "Qashqadaryo                       28400\n",
              "Buxoro                            39400\n",
              "Navoiy                           110800\n",
              "Qoraqalpog'iston Respublikasi    160000\n",
              "Name: Hudular hajmi, dtype: int64"
            ]
          },
          "execution_count": 61,
          "metadata": {},
          "output_type": "execute_result"
        }
      ]
    },
    {
      "cell_type": "code",
      "metadata": {
        "code_folding": [
          0
        ],
        "jupyter": {
          "source_hidden": true
        },
        "tags": [],
        "id": "RPI5Y5ZaMaUF",
        "outputId": "8e82af10-7242-4875-a85b-a8e8bcd6b69a"
      },
      "source": [
        "#@title To'g'ri javob\n",
        "print(\"Aholi soni bo'yicha tartiblash\")\n",
        "obj2.sort_values()"
      ],
      "execution_count": null,
      "outputs": [
        {
          "name": "stdout",
          "output_type": "stream",
          "text": [
            "Aholi soni bo'yicha tartiblash\n"
          ]
        },
        {
          "data": {
            "text/plain": [
              "Sirdaryo                          648100\n",
              "Navoiy                            767500\n",
              "Jizzax                            910500\n",
              "Xorazm                           1200000\n",
              "Qoraqalpog'iston Respublikasi    1200000\n",
              "Buxoro                           1384700\n",
              "Surxondaryo                      1676000\n",
              "Namangan                         1862000\n",
              "Andijon                          1899000\n",
              "Qashqadaryo                      2029000\n",
              "Samarqand                        2322000\n",
              "Farg'ona                         2597000\n",
              "Toshkent                         4450000\n",
              "dtype: int64"
            ]
          },
          "execution_count": 60,
          "metadata": {},
          "output_type": "execute_result"
        }
      ]
    },
    {
      "cell_type": "code",
      "metadata": {
        "id": "YgESVszuMaUG"
      },
      "source": [
        ""
      ],
      "execution_count": null,
      "outputs": []
    }
  ]
}