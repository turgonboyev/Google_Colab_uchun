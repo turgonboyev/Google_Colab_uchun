{
  "nbformat": 4,
  "nbformat_minor": 0,
  "metadata": {
    "colab": {
      "name": "Untitled2.ipynb",
      "provenance": [],
      "mount_file_id": "1TmZYL7rxvVIOQaw3yDPbfHmD4Ul_LT8-",
      "authorship_tag": "ABX9TyPQNj7lkxdELTCnEZxkaBJ0",
      "include_colab_link": true
    },
    "kernelspec": {
      "name": "python3",
      "display_name": "Python 3"
    },
    "language_info": {
      "name": "python"
    }
  },
  "cells": [
    {
      "cell_type": "markdown",
      "metadata": {
        "id": "view-in-github",
        "colab_type": "text"
      },
      "source": [
        "<a href=\"https://colab.research.google.com/github/turgonboyev/Google_Colab_uchun/blob/main/Samarqand%20tumanlari%20markazlarini%20topish.ipynb\" target=\"_parent\"><img src=\"https://colab.research.google.com/assets/colab-badge.svg\" alt=\"Open In Colab\"/></a>"
      ]
    },
    {
      "cell_type": "code",
      "execution_count": 1,
      "metadata": {
        "id": "jFwaAptb8HUl"
      },
      "outputs": [],
      "source": [
        "import pandas as pd\n",
        "import numpy as np"
      ]
    },
    {
      "cell_type": "code",
      "source": [
        "samarqand = pd.read_html(\"https://uz.wikipedia.org/wiki/Samarqand_viloyati\")\n",
        "tumanlar = samarqand[2]\n",
        "tuman = tumanlar[\"Tuman nomi\"]\n",
        "tumanlar.drop([\"Unnamed: 0\", \"Tuman nomi\"], axis = 1, inplace=True)\n",
        "tumanlar.index = tuman\n",
        "tumanlar.to_excel(\"Samarqand tumanlarining markazlari.xlsx\")"
      ],
      "metadata": {
        "id": "EnqZwB6P8jBH"
      },
      "execution_count": 16,
      "outputs": []
    },
    {
      "cell_type": "code",
      "source": [
        "len(samarqand)"
      ],
      "metadata": {
        "colab": {
          "base_uri": "https://localhost:8080/"
        },
        "id": "ekVOHtpv8w0c",
        "outputId": "5b3dc08e-9bee-4b6b-cc57-f3689bc81f03"
      },
      "execution_count": 24,
      "outputs": [
        {
          "output_type": "execute_result",
          "data": {
            "text/plain": [
              "8"
            ]
          },
          "metadata": {},
          "execution_count": 24
        }
      ]
    },
    {
      "cell_type": "code",
      "source": [
        ""
      ],
      "metadata": {
        "id": "N9MfR4bL_qnu"
      },
      "execution_count": null,
      "outputs": []
    }
  ]
}